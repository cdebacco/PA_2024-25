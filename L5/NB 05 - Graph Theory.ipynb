{
 "cells": [
  {
   "cell_type": "markdown",
   "id": "7da6a37a-8a5a-4de8-8446-d5c0074367fa",
   "metadata": {},
   "source": [
    "# L5: Graph theory"
   ]
  },
  {
   "cell_type": "code",
   "execution_count": null,
   "id": "78c3a7eb-3ba9-4bbd-9018-40c75606fca2",
   "metadata": {},
   "outputs": [],
   "source": [
    "\n",
    "%load_ext autoreload\n",
    "%autoreload 2"
   ]
  },
  {
   "cell_type": "code",
   "execution_count": null,
   "id": "ffbaeb79-c0fb-4c88-963a-06d77009ee82",
   "metadata": {},
   "outputs": [],
   "source": [
    "import numpy as np\n",
    "import pandas as pd\n",
    "import networkx as nx\n",
    "\n",
    "import matplotlib.pyplot as plt\n",
    "from matplotlib import cm\n",
    "import matplotlib as mpl\n",
    "\n",
    "from IPython.display import display, Math"
   ]
  },
  {
   "cell_type": "code",
   "execution_count": null,
   "id": "4bd1446b-125a-4d11-8235-7eabd9ccba28",
   "metadata": {},
   "outputs": [],
   "source": [
    "def get_filename(filename: str, lecture_id: int = 1, file_extension: str = '.png') -> str:\n",
    "    return f\"L{lecture_id}_{filename}{file_extension}\"\n",
    "\n",
    "outdir = '../figures/'\n",
    "lecture_id = 5"
   ]
  },
  {
   "cell_type": "code",
   "execution_count": null,
   "id": "c3f4f6bc-5c20-4e07-94ac-07a34471c0ad",
   "metadata": {},
   "outputs": [],
   "source": [
    "'''\n",
    "------------------------------------------\n",
    "            SETTINGS\n",
    "------------------------------------------\n",
    "'''\n",
    "plt.style.use('fivethirtyeight')\n",
    "plt.style.use('seaborn-v0_8-white')\n",
    "plt.rcParams['font.family'] = 'PT Sans'\n",
    "# plt.rcParams['font.serif'] = 'Ubuntu'\n",
    "plt.rcParams['font.monospace'] = 'Ubuntu Mono'\n",
    "plt.rcParams['font.size'] = 14\n",
    "plt.rcParams['axes.labelsize'] = 14\n",
    "plt.rcParams['axes.labelweight'] = 'bold'\n",
    "plt.rcParams['xtick.labelsize'] = 12\n",
    "plt.rcParams['ytick.labelsize'] = 12\n",
    "plt.rcParams['legend.fontsize'] = 14\n",
    "plt.rcParams['figure.titlesize'] = 12\n",
    "\n",
    "ms = 100 # marker size\n",
    "fs = 20 # fontsize\n",
    "dpi = 100\n",
    "BLUE = \"#2a475e\""
   ]
  },
  {
   "cell_type": "markdown",
   "id": "f8672d1c-99b9-4723-91b3-a9069caae39d",
   "metadata": {},
   "source": [
    "# 1. Investigate networks"
   ]
  },
  {
   "cell_type": "code",
   "execution_count": null,
   "id": "4618ffa2-94fd-45da-af6b-6ad662135186",
   "metadata": {},
   "outputs": [],
   "source": [
    "seed = 10\n",
    "prng = np.random.RandomState(seed)\n"
   ]
  },
  {
   "cell_type": "markdown",
   "id": "99fe21a0-efec-49bd-b2a0-af0dd20df649",
   "metadata": {},
   "source": [
    "## 1.a Generate and visualize networks"
   ]
  },
  {
   "cell_type": "markdown",
   "id": "808463b0-ad8f-4352-b3a9-efb078ad4aeb",
   "metadata": {
    "execution": {
     "iopub.execute_input": "2024-11-12T13:05:50.702967Z",
     "iopub.status.busy": "2024-11-12T13:05:50.702839Z",
     "iopub.status.idle": "2024-11-12T13:05:50.713830Z",
     "shell.execute_reply": "2024-11-12T13:05:50.713171Z",
     "shell.execute_reply.started": "2024-11-12T13:05:50.702960Z"
    }
   },
   "source": [
    "Let's start by visualizing some toy example networks and getting familiar with [`networkx`](https://networkx.org/documentation/stable/index.html)."
   ]
  },
  {
   "cell_type": "markdown",
   "id": "e26e123b-72a3-47ba-9cf9-2ee36c218bbb",
   "metadata": {},
   "source": [
    "We generate some [examples](https://networkx.org/documentation/stable/reference/generators.html) directly using `networkx` library. "
   ]
  },
  {
   "cell_type": "code",
   "execution_count": null,
   "id": "5e609926-c537-4fff-9c6b-7c0dedaf8d9a",
   "metadata": {},
   "outputs": [],
   "source": [
    "G = []\n",
    "pos = [] # stores the positions, for visualization\n",
    "title = ['Star','Grid','Geometric','Erdős-Rényi', 'Tree']\n",
    "\n",
    "# Star\n",
    "N = 10\n",
    "G.append(nx.star_graph(N))\n",
    "pos.append(nx.spring_layout(G[-1], iterations=100, seed=seed))\n",
    "\n",
    "# Grid \n",
    "d = 4\n",
    "G.append(nx.grid_2d_graph(d, d) )\n",
    "pos.append(nx.spring_layout(G[-1], iterations=100, seed=seed))\n",
    "\n",
    "# Geometric\n",
    "N = 50\n",
    "G.append(nx.random_geometric_graph(N, 0.2, seed=seed))\n",
    "# position is stored as node attribute data for random_geometric_graph\n",
    "pos.append(nx.get_node_attributes(G[-1], \"pos\"))\n",
    "\n",
    "# ER\n",
    "N = 20\n",
    "p = 0.2\n",
    "G.append(nx.erdos_renyi_graph(N, p, seed=seed))\n",
    "pos.append(nx.spring_layout(G[-1], iterations=100, seed=seed))\n",
    "\n",
    "# Tree\n",
    "N = 20\n",
    "G.append(nx.random_labeled_rooted_tree(N))\n",
    "pos.append(nx.spring_layout(G[-1], iterations=100, seed=seed))"
   ]
  },
  {
   "cell_type": "code",
   "execution_count": null,
   "id": "61ab710b-1681-49e2-b035-6f4754b75872",
   "metadata": {},
   "outputs": [],
   "source": [
    "filename = 'network_examples'\n",
    "outfile = get_filename(filename,lecture_id=lecture_id)"
   ]
  },
  {
   "cell_type": "code",
   "execution_count": null,
   "id": "bbe123dd-f30e-4312-a7d3-1c9f71191aa8",
   "metadata": {},
   "outputs": [],
   "source": [
    "L = len(G) # number of graph types\n",
    "width = 4\n",
    "height = width\n",
    "nrows = 1\n",
    "ncols = int(np.ceil(L / nrows))\n",
    "nc = 'white'\n",
    "ec = BLUE\n",
    "ew = 5"
   ]
  },
  {
   "cell_type": "code",
   "execution_count": null,
   "id": "d1f56951-0f59-43bd-bf34-ef799327a363",
   "metadata": {},
   "outputs": [],
   "source": [
    "fig,ax = plt.subplots(nrows,ncols, figsize=(width * ncols,  height * nrows))\n",
    "\n",
    "for i in np.arange(L):\n",
    "    nx.draw_networkx_nodes(G[i], pos[i], node_size=500, edgecolors='black', node_color=nc,ax=ax[i])\n",
    "    nx.draw_networkx_labels(G[i], pos[i], font_size=12, ax=ax[i])\n",
    "    \n",
    "    edges = nx.draw_networkx_edges(G[i], pos[i], ax=ax[i], \n",
    "                                   edge_color=ec,\n",
    "                                    width=ew)\n",
    "    \n",
    "    ax[i].set_axis_off()\n",
    "    ax[i].set_title(title[i],fontsize=fs)\n",
    "\n",
    "plt.tight_layout()\n",
    "\n",
    "if outfile is not None:\n",
    "    \n",
    "    plt.savefig(f\"{outdir}{outfile}\", dpi=dpi, format=None, metadata=None,\n",
    "                bbox_inches='tight', pad_inches=0.1,\n",
    "                facecolor='auto', edgecolor='auto',\n",
    "                backend=None\n",
    "                )\n",
    "    print(f\"Figure saved in {outdir}{outfile}\")\n",
    "        \n",
    "plt.show()"
   ]
  },
  {
   "cell_type": "markdown",
   "id": "d254de6a-1d36-4220-a809-2295081ad36e",
   "metadata": {
    "execution": {
     "iopub.execute_input": "2024-11-12T13:39:44.985218Z",
     "iopub.status.busy": "2024-11-12T13:39:44.981880Z",
     "iopub.status.idle": "2024-11-12T13:39:45.019089Z",
     "shell.execute_reply": "2024-11-12T13:39:45.018778Z",
     "shell.execute_reply.started": "2024-11-12T13:39:44.985128Z"
    }
   },
   "source": [
    "## 1.b Visualize adjacency matrix $A$"
   ]
  },
  {
   "cell_type": "markdown",
   "id": "ef0a47c3-233d-4010-9bae-229dd4e993b0",
   "metadata": {},
   "source": [
    "We can extract it directly from `networkx`"
   ]
  },
  {
   "cell_type": "code",
   "execution_count": null,
   "id": "1550563b-2023-47ba-8201-5fe2621afe43",
   "metadata": {},
   "outputs": [],
   "source": [
    "A = [nx.adjacency_matrix(g) for g in G]"
   ]
  },
  {
   "cell_type": "markdown",
   "id": "c8a18709-3866-45f2-8bb9-d674e3624122",
   "metadata": {
    "execution": {
     "iopub.execute_input": "2024-11-12T13:40:26.044830Z",
     "iopub.status.busy": "2024-11-12T13:40:26.044017Z",
     "iopub.status.idle": "2024-11-12T13:40:26.069034Z",
     "shell.execute_reply": "2024-11-12T13:40:26.068312Z",
     "shell.execute_reply.started": "2024-11-12T13:40:26.044792Z"
    }
   },
   "source": [
    "Now let's visualize"
   ]
  },
  {
   "cell_type": "code",
   "execution_count": null,
   "id": "7ec2cbf3-451c-4a86-b9ed-c1697938f221",
   "metadata": {},
   "outputs": [],
   "source": [
    "filename = 'A_network_examples'\n",
    "outfile = get_filename(filename,lecture_id=lecture_id)"
   ]
  },
  {
   "cell_type": "code",
   "execution_count": null,
   "id": "ccc283ce-d869-4e4a-8046-28e251fd22ca",
   "metadata": {},
   "outputs": [],
   "source": [
    "cmap='PuBuGn'\n"
   ]
  },
  {
   "cell_type": "code",
   "execution_count": null,
   "id": "3e9f774b-fd89-442b-af27-05694776c37f",
   "metadata": {},
   "outputs": [],
   "source": [
    "A[0]"
   ]
  },
  {
   "cell_type": "code",
   "execution_count": null,
   "id": "fdb747f0-0ece-4101-9bfd-8de5cfe2b756",
   "metadata": {},
   "outputs": [],
   "source": [
    "fig,ax = plt.subplots(nrows,ncols, figsize=(width * ncols,  height * nrows))\n",
    "\n",
    "for i in np.arange(L):\n",
    "    ax[i].imshow(A[i].toarray(), cmap=cmap)\n",
    "    ax[i].set_title(title[i],fontsize=fs)\n",
    "    \n",
    "plt.tight_layout()\n",
    "\n",
    "if outfile is not None:\n",
    "    \n",
    "    plt.savefig(f\"{outdir}{outfile}\", dpi=dpi, format=None, metadata=None,\n",
    "                bbox_inches='tight', pad_inches=0.1,\n",
    "                facecolor='auto', edgecolor='auto',\n",
    "                backend=None\n",
    "                )\n",
    "    print(f\"Figure saved in {outdir}{outfile}\")\n",
    "        \n",
    "plt.show()\n"
   ]
  },
  {
   "cell_type": "markdown",
   "id": "d1c2af99-84d0-4ba8-8d4a-52527916c098",
   "metadata": {},
   "source": [
    "## 1.c Get paths between two nodes in one of these graphs.\n",
    "There are at most $M_{N} =  \\lfloor{e (N-2) !\\rfloor}$ of them (in the complete graph), but let's see some examples\n",
    "by using the function [`all_simple_paths`](https://networkx.org/documentation/stable/reference/algorithms/generated/networkx.algorithms.simple_paths.all_simple_paths.html)"
   ]
  },
  {
   "cell_type": "markdown",
   "id": "1bb46fa2-b650-4735-a2cf-9d96a1277e30",
   "metadata": {},
   "source": [
    "Let's start with the **star** example"
   ]
  },
  {
   "cell_type": "code",
   "execution_count": null,
   "id": "a372ae85-7829-4318-8c46-e2d96a02d7dc",
   "metadata": {},
   "outputs": [],
   "source": [
    "i = 0\n",
    "source = 1\n",
    "target = 10\n",
    "paths = [p for p in nx.all_simple_paths(G[i], source=0, target=3)]\n",
    "print(f\"# paths = {len(paths)}\")"
   ]
  },
  {
   "cell_type": "markdown",
   "id": "0eb298c0-a73b-4c33-8cef-8a970229c298",
   "metadata": {
    "execution": {
     "iopub.execute_input": "2024-11-12T14:28:59.810545Z",
     "iopub.status.busy": "2024-11-12T14:28:59.809796Z",
     "iopub.status.idle": "2024-11-12T14:28:59.837493Z",
     "shell.execute_reply": "2024-11-12T14:28:59.836972Z",
     "shell.execute_reply.started": "2024-11-12T14:28:59.810491Z"
    }
   },
   "source": [
    "Try to change source and target nodes... there is alway 1 path!  \n",
    "Let's try with the **grid**."
   ]
  },
  {
   "cell_type": "code",
   "execution_count": null,
   "id": "6315f124-e821-48f8-b449-e292e31aa1d4",
   "metadata": {},
   "outputs": [],
   "source": [
    "i = 1\n",
    "G[1].nodes()"
   ]
  },
  {
   "cell_type": "code",
   "execution_count": null,
   "id": "19c0b43e-2adb-484e-873c-818e9e8b11bf",
   "metadata": {},
   "outputs": [],
   "source": [
    "source = (0,0)\n",
    "target = (3,3)\n",
    "paths = [p for p in nx.all_simple_paths(G[i], source=source, target=target)]\n",
    "print(f\"# paths = {len(paths)}\")\n"
   ]
  },
  {
   "cell_type": "code",
   "execution_count": null,
   "id": "9a148499-108f-4381-bbb3-6827a2564db8",
   "metadata": {},
   "outputs": [],
   "source": [
    "H_p = np.array([len(p) for p in paths]) # hopcount distribution"
   ]
  },
  {
   "cell_type": "markdown",
   "id": "26e77801-4dad-40d8-965c-ece3eb3f3032",
   "metadata": {},
   "source": [
    "Let's plot some examples."
   ]
  },
  {
   "cell_type": "code",
   "execution_count": null,
   "id": "7b1ffa23-989e-4757-912b-0354a6c24a40",
   "metadata": {},
   "outputs": [],
   "source": [
    "pid = prng.choice(len(paths),size=1)[0]\n",
    "pid = np.argmax(H_p)\n",
    "pid = np.argmin(H_p)\n",
    "print(pid)\n",
    "ref_path = [list(path) for path in map(nx.utils.pairwise, paths[pid:pid+1])][0]\n",
    "\n",
    "hopcount = len(ref_path)\n",
    "print(f\"hopcount={hopcount}\")"
   ]
  },
  {
   "cell_type": "markdown",
   "id": "7a2416a7-ebcd-4268-bdb8-cf813b54f0ea",
   "metadata": {},
   "source": [
    "First, we need to _color_ source, target and edges in the path"
   ]
  },
  {
   "cell_type": "code",
   "execution_count": null,
   "id": "a14ed0c9-01a9-43f3-86f1-397e0d3b1a9d",
   "metadata": {},
   "outputs": [],
   "source": [
    "def assign_node_color(n: int, source: int = -1, target: int = -1,\n",
    "                      color_source = 'red', color_target = 'green', color: str = 'white')-> str:\n",
    "    if n == source:\n",
    "        return color_source\n",
    "    if n == target:\n",
    "        return color_target\n",
    "    return color"
   ]
  },
  {
   "cell_type": "code",
   "execution_count": null,
   "id": "95ab98f4-f15a-4b9b-a5ed-8a6f74968f08",
   "metadata": {},
   "outputs": [],
   "source": [
    "edge_colors = [ BLUE if (e not in ref_path) and ((e[1],e[0]) not in ref_path) else 'r' for e in G[i].edges() ]\n",
    "widths = [ 1 if (e not in ref_path) and ((e[1],e[0]) not in ref_path) else 10 for e in G[i].edges() ]\n",
    "node_colors = [assign_node_color(n,source=source,target=target) for n in G[i].nodes()]"
   ]
  },
  {
   "cell_type": "markdown",
   "id": "8b23e10e-6c61-4859-954e-d54c20eb464a",
   "metadata": {},
   "source": [
    "Now we can visualize one path"
   ]
  },
  {
   "cell_type": "code",
   "execution_count": null,
   "id": "79824781-0d1b-405d-be8b-8ddcb7f901fc",
   "metadata": {},
   "outputs": [],
   "source": [
    "filename = f'path_example_{pid}'\n",
    "outfile = get_filename(filename,lecture_id=lecture_id)"
   ]
  },
  {
   "cell_type": "code",
   "execution_count": null,
   "id": "ed33ab6d-ef4b-4b47-aad1-d136f7a0e19f",
   "metadata": {},
   "outputs": [],
   "source": [
    "fig, ax = plt.subplots()\n",
    "\n",
    "nx.draw_networkx_nodes(G[i], pos[i], node_size=1000, edgecolors='black', node_color=node_colors)\n",
    "nx.draw_networkx_labels(G[i], pos[i], font_size=12)\n",
    "\n",
    "edges = nx.draw_networkx_edges(G[i], pos[i], ax=ax, edge_cmap=cm.Blues, edge_color=edge_colors,\n",
    "                              width=widths)\n",
    "\n",
    "\n",
    "ax.set_title(r'$H(\\mathcal{P}_{AB})$' + f\"= {len(ref_path)}\")\n",
    "ax.set_axis_off()\n",
    "\n",
    "plt.tight_layout()\n",
    "\n",
    "if outfile is not None:\n",
    "    \n",
    "    plt.savefig(f\"{outdir}{outfile}\", dpi=dpi, format=None, metadata=None,\n",
    "                bbox_inches='tight', pad_inches=0.1,\n",
    "                facecolor='auto', edgecolor='auto',\n",
    "                backend=None\n",
    "                )\n",
    "    print(f\"Figure saved in {outdir}{outfile}\")\n",
    "        \n",
    "plt.show()"
   ]
  },
  {
   "cell_type": "markdown",
   "id": "d0424c65-9649-4482-b0ab-2f6d53c8738c",
   "metadata": {},
   "source": [
    "You can play by selecting other paths or other sources and targets (or other graphs)"
   ]
  },
  {
   "cell_type": "markdown",
   "id": "8d406d79-f969-4e0e-9c5b-c26239501261",
   "metadata": {},
   "source": [
    "## 1.d Find how many edges\\nodes do you need to disconnect the graph\n",
    "We need to compute $\\lambda(G)$ and $\\kappa(G)$.  \n",
    "We can compare them and with $d_{min}(G)$."
   ]
  },
  {
   "cell_type": "code",
   "execution_count": null,
   "id": "5f61b063-b64c-4c12-8d1c-8b51e4f48da2",
   "metadata": {},
   "outputs": [],
   "source": [
    "for i in range(L):\n",
    "    msg = f\"{title[i]}:\"\n",
    "    msg = msg + r'\\kappa(G)' + f\"={nx.node_connectivity(G[i])}\\\\,|\\\\,\"\n",
    "    msg = msg + r'\\lambda(G)' + f\"={nx.edge_connectivity(G[i])} \\\\,|\\\\,\"\n",
    "    msg = msg + r'd_{min}(G)' + f\"={np.min([G[i].degree[n] for n in G[i].nodes()])}\"\n",
    "    display(Math(msg))"
   ]
  },
  {
   "cell_type": "markdown",
   "id": "b3842db9-ca71-4f6e-b203-9c82723b9b07",
   "metadata": {},
   "source": [
    "Note that:\n",
    "- the _geometric_ graph has 0s, that's because it is already disconnected!\n",
    "- the _tree_ has all 1, this is an extreme case as it has no loops to create redundancy"
   ]
  },
  {
   "cell_type": "markdown",
   "id": "ecf4c775-5d11-4320-b53d-e62fd792f4df",
   "metadata": {},
   "source": [
    "## 2. Erdös-Rényi random graphs\n",
    "Let's get familiar with the ER graph. \n"
   ]
  },
  {
   "cell_type": "markdown",
   "id": "184fb2e3-3f93-42b3-a84a-67f3812d14c4",
   "metadata": {},
   "source": [
    "### 2.1 Method 1: $G_p(N)$\n",
    "Where $p$ is the probability of sampling an edge over all the possible $L_{max} = {{N}\\choose{2}} $.  \n",
    "We already encountered en example before.\n",
    "\n",
    "You can play with $p$ and see how the graph changes."
   ]
  },
  {
   "cell_type": "code",
   "execution_count": null,
   "id": "49c4d463-6370-4b9e-8b95-bbc7387416dd",
   "metadata": {},
   "outputs": [],
   "source": [
    "N = 20\n",
    "p = 0.2\n",
    "G = nx.erdos_renyi_graph(N, p, seed=seed)\n",
    "pos = nx.spring_layout(G, iterations=100, seed=seed)\n",
    "\n",
    "L_max = N * (N - 1) / 2\n",
    "print(f\"L = {G.number_of_edges()}\\nExp[L] = {p * L_max}\")"
   ]
  },
  {
   "cell_type": "code",
   "execution_count": null,
   "id": "fc086e4a-d0c7-4bde-87b8-2c675dca07b2",
   "metadata": {},
   "outputs": [],
   "source": [
    "outfile = None\n",
    "\n",
    "fig, ax = plt.subplots()\n",
    "\n",
    "nx.draw_networkx(G, pos, node_size=1000, edgecolors='black')\n",
    "\n",
    "ax.set_title(r'$p$' + f\" = {p}\")\n",
    "ax.set_axis_off()\n",
    "\n",
    "plt.tight_layout()\n",
    "\n",
    "if outfile is not None:\n",
    "    \n",
    "    plt.savefig(f\"{outdir}{outfile}\", dpi=dpi, format=None, metadata=None,\n",
    "                bbox_inches='tight', pad_inches=0.1,\n",
    "                facecolor='auto', edgecolor='auto',\n",
    "                backend=None\n",
    "                )\n",
    "    print(f\"Figure saved in {outdir}{outfile}\")\n",
    "        \n",
    "plt.show()"
   ]
  },
  {
   "cell_type": "markdown",
   "id": "fb578730-183e-429b-a382-70de85588e9a",
   "metadata": {},
   "source": [
    "Let's see how is the **degree distribution**"
   ]
  },
  {
   "cell_type": "code",
   "execution_count": null,
   "id": "34174ba2-0291-47ef-9fd1-71ac8bdefb87",
   "metadata": {},
   "outputs": [],
   "source": [
    "def ecdf(a): # empirical CDF\n",
    "    x, counts = np.unique(a, return_counts=True)\n",
    "    cusum = np.cumsum(counts)\n",
    "    return x, cusum / cusum[-1]"
   ]
  },
  {
   "cell_type": "code",
   "execution_count": null,
   "id": "be11d032-02c5-46af-9908-52128132a977",
   "metadata": {},
   "outputs": [],
   "source": [
    "degrees = np.array([val for (node, val) in G.degree()])\n",
    "degree_cdf_x, degree_cdf_y = ecdf(degrees)"
   ]
  },
  {
   "cell_type": "markdown",
   "id": "b2f37319-ba6e-4df1-b76c-83317fcef979",
   "metadata": {},
   "source": [
    "Compare with the theoretical one, that is a binomial distribution with parameters $N-1$ and $p$"
   ]
  },
  {
   "cell_type": "code",
   "execution_count": null,
   "id": "ceb5a566-5f3d-4419-99f6-6ddc6cbda058",
   "metadata": {},
   "outputs": [],
   "source": [
    "from scipy.stats import binom"
   ]
  },
  {
   "cell_type": "code",
   "execution_count": null,
   "id": "9401e33d-c657-4d6e-9f6f-8aa2ffccaaea",
   "metadata": {},
   "outputs": [],
   "source": [
    "xs = np.arange(N-1)\n",
    "ys = binom.pmf(xs, N-1, p)\n",
    "ys_cdf = binom.cdf(xs, N-1, p)\n",
    "\n",
    "min_x,max_x = degrees.min(),degrees.max()"
   ]
  },
  {
   "cell_type": "code",
   "execution_count": null,
   "id": "5ff0539b-3752-4c03-a94a-5cdaf07910ce",
   "metadata": {},
   "outputs": [],
   "source": [
    "pad = 2\n",
    "plt.figure()\n",
    "\n",
    "fig,ax = plt.subplots(1,2,figsize=(8,4))\n",
    "\n",
    "ax[0].hist(degrees, label = 'Data',density=True)\n",
    "ax[0].plot(xs,ys, label='Theory',alpha=0.6)\n",
    "ax[0].set_xlabel(r'$d_i$')\n",
    "ax[0].set_ylabel('Frequency')\n",
    "ax[0].set_xlim(min_x - pad, max_x + pad)\n",
    "\n",
    "ax[0].legend()\n",
    "\n",
    "ax[1].plot(degree_cdf_x, degree_cdf_y, label = 'Data')\n",
    "ax[1].plot(xs, ys_cdf, label='Theory',alpha=0.6)\n",
    "ax[1].set_xlabel(r'$d_i$')\n",
    "ax[1].set_ylabel('CDF')\n",
    "ax[1].set_xlim(min_x - pad, max_x + pad)\n",
    "\n",
    "ax[1].legend()\n",
    "\n",
    "plt.tight_layout()"
   ]
  },
  {
   "cell_type": "markdown",
   "id": "8ccdba10-6bae-40ec-b770-41cbfabf82dc",
   "metadata": {},
   "source": [
    "### 2.2 Method 2: $G_r(N,L)$\n",
    "The number of edges $L$ is now fixed!  \n",
    "For better comparison, let's fix it equal to either $p L_{max}$ or to the empirical $L$ for the previous graph, \n",
    "generated with $G_p(N)$."
   ]
  },
  {
   "cell_type": "code",
   "execution_count": null,
   "id": "d13e1e4b-e0a6-4e82-97bf-87ed54655ae3",
   "metadata": {},
   "outputs": [],
   "source": [
    "seed = 10\n",
    "L = p * L_max # either p * L_max or L\n",
    "G_nl = nx.gnm_random_graph(N, L, seed=seed)\n",
    "pos_nl = nx.spring_layout(G, iterations=100, seed=seed)"
   ]
  },
  {
   "cell_type": "code",
   "execution_count": null,
   "id": "188dd5d4-3cf9-4efa-8f60-71bc5ed4ac3b",
   "metadata": {},
   "outputs": [],
   "source": [
    "assert G_nl.number_of_edges() == L\n",
    "print(f\"L = {G_nl.number_of_edges()}\\nExp[L] = {p * L_max}\")"
   ]
  },
  {
   "cell_type": "code",
   "execution_count": null,
   "id": "617ca3c5-22a3-4229-9bd7-a9839f1f3aa8",
   "metadata": {},
   "outputs": [],
   "source": [
    "outfile = None\n",
    "\n",
    "fig, ax = plt.subplots()\n",
    "\n",
    "nx.draw_networkx(G_nl, pos_nl, node_size=1000, edgecolors='black')\n",
    "\n",
    "ax.set_title(r'$p$' + f\" = {p}\")\n",
    "ax.set_axis_off()\n",
    "\n",
    "plt.tight_layout()\n",
    "\n",
    "if outfile is not None:\n",
    "    \n",
    "    plt.savefig(f\"{outdir}{outfile}\", dpi=dpi, format=None, metadata=None,\n",
    "                bbox_inches='tight', pad_inches=0.1,\n",
    "                facecolor='auto', edgecolor='auto',\n",
    "                backend=None\n",
    "                )\n",
    "    print(f\"Figure saved in {outdir}{outfile}\")\n",
    "        \n",
    "plt.show()"
   ]
  },
  {
   "cell_type": "markdown",
   "id": "f2c5b944-7e9a-4a92-9157-ebe16d8ff68b",
   "metadata": {},
   "source": [
    "And let's see how is the **degree distribution** distributed in this case..."
   ]
  },
  {
   "cell_type": "code",
   "execution_count": null,
   "id": "dab8b208-1a7c-4849-8bd8-b50de70b75d6",
   "metadata": {},
   "outputs": [],
   "source": [
    "degrees_nl = np.array([val for (node, val) in G_nl.degree()])\n",
    "degree_nl_cdf_x, degree_nl_cdf_y = ecdf(degrees_nl)"
   ]
  },
  {
   "cell_type": "code",
   "execution_count": null,
   "id": "66d1e8ed-dc8c-4461-ae38-ee0b28f179aa",
   "metadata": {},
   "outputs": [],
   "source": [
    "pad = 2\n",
    "plt.figure()\n",
    "\n",
    "fig,ax = plt.subplots(1,2,figsize=(8,4))\n",
    "\n",
    "ax[0].hist(degrees_nl, label = 'Data',density=True)\n",
    "ax[0].plot(xs,ys, label='Theory',alpha=0.6)\n",
    "ax[0].set_xlabel(r'$d_i$')\n",
    "ax[0].set_ylabel('Frequency')\n",
    "ax[0].set_xlim(min_x - pad, max_x + pad)\n",
    "\n",
    "ax[0].legend()\n",
    "\n",
    "ax[1].plot(degree_nl_cdf_x, degree_nl_cdf_y, label = 'Data')\n",
    "ax[1].plot(xs, ys_cdf, label='Theory',alpha=0.6)\n",
    "ax[1].set_xlabel(r'$d_i$')\n",
    "ax[1].set_ylabel('CDF')\n",
    "ax[1].set_xlim(min_x - pad, max_x + pad)\n",
    "\n",
    "ax[1].legend()\n",
    "\n",
    "plt.tight_layout()"
   ]
  },
  {
   "cell_type": "markdown",
   "id": "496470c6-992c-44be-8257-a2b8694792a1",
   "metadata": {
    "execution": {
     "iopub.execute_input": "2024-11-26T14:11:36.258746Z",
     "iopub.status.busy": "2024-11-26T14:11:36.257661Z",
     "iopub.status.idle": "2024-11-26T14:11:36.289848Z",
     "shell.execute_reply": "2024-11-26T14:11:36.289099Z",
     "shell.execute_reply.started": "2024-11-26T14:11:36.258678Z"
    }
   },
   "source": [
    "Let's try now with a real graph.   \n",
    "We can download examples from [this website](https://websites.umich.edu/~mejn/netdata/)"
   ]
  },
  {
   "cell_type": "code",
   "execution_count": null,
   "id": "2d93b65a-78b1-4ee8-844d-585e040ef9be",
   "metadata": {},
   "outputs": [],
   "source": [
    "import urllib.request\n",
    "import io\n",
    "import zipfile"
   ]
  },
  {
   "cell_type": "code",
   "execution_count": null,
   "id": "1df59a87-bef2-4906-a830-bd32c0105f6f",
   "metadata": {},
   "outputs": [],
   "source": [
    "dataset = 'as-22july06' # interner dataset\n",
    "# dataset = 'netscience' # scientific collaborations\n",
    "url = f\"http://www-personal.umich.edu/~mejn/netdata/{dataset}.zip\"\n",
    "\n",
    "sock = urllib.request.urlopen(url)  # open URL\n",
    "s = io.BytesIO(sock.read())  # read into BytesIO \"file\"\n",
    "sock.close()\n",
    "\n",
    "zf = zipfile.ZipFile(s)  # zipfile object\n",
    "txt = zf.read(f\"{dataset}.txt\").decode()  # read info file\n",
    "gml = zf.read(f\"{dataset}.gml\").decode()  # read gml data\n",
    "# throw away bogus first line with # from mejn files\n",
    "gml = gml.split(\"\\n\")[1:]\n",
    "G = nx.parse_gml(gml)  # parse gml data"
   ]
  },
  {
   "cell_type": "markdown",
   "id": "373b7830-eaf7-4711-b177-3575950e4b42",
   "metadata": {},
   "source": [
    "Before attempting to visualize, better to check its size!"
   ]
  },
  {
   "cell_type": "code",
   "execution_count": null,
   "id": "49905a67-c5a6-4cae-8727-147f26595cc2",
   "metadata": {},
   "outputs": [],
   "source": [
    "L = G.number_of_edges()\n",
    "N = G.number_of_nodes()\n",
    "\n",
    "L_max = N * (N - 1) / 2\n",
    "\n",
    "print(f\"N = {N}, L = {L}\")"
   ]
  },
  {
   "cell_type": "markdown",
   "id": "e61bdc4b-6ebb-4622-b6bc-93736b325105",
   "metadata": {},
   "source": [
    "We can always visualize the degree distribution"
   ]
  },
  {
   "cell_type": "code",
   "execution_count": null,
   "id": "fc49d06f-1b06-467a-879a-1547acb2c8b0",
   "metadata": {},
   "outputs": [],
   "source": [
    "degrees = np.array([val for (node, val) in G.degree()])\n",
    "degree_cdf_x, degree_cdf_y = ecdf(degrees)"
   ]
  },
  {
   "cell_type": "markdown",
   "id": "7cb1d0ab-0ea9-400f-9be2-9f377744571d",
   "metadata": {
    "execution": {
     "iopub.execute_input": "2024-11-26T14:16:28.261792Z",
     "iopub.status.busy": "2024-11-26T14:16:28.261329Z",
     "iopub.status.idle": "2024-11-26T14:16:28.289150Z",
     "shell.execute_reply": "2024-11-26T14:16:28.288467Z",
     "shell.execute_reply.started": "2024-11-26T14:16:28.261760Z"
    }
   },
   "source": [
    "But first, to have a meaningful comparison with an ER, we should choose a proper $p$.   \n",
    "For this, we can use the density $p=L/L_{max}$"
   ]
  },
  {
   "cell_type": "code",
   "execution_count": null,
   "id": "67c18e41-5610-4103-97c8-43a1a2f1b5ec",
   "metadata": {},
   "outputs": [],
   "source": [
    "p = L / L_max"
   ]
  },
  {
   "cell_type": "code",
   "execution_count": null,
   "id": "146e1e0a-745d-491f-83d6-75b3f8c6cfb1",
   "metadata": {},
   "outputs": [],
   "source": [
    "xs = np.arange(N-1)\n",
    "ys = binom.pmf(xs, N-1, p)\n",
    "ys_cdf = binom.cdf(xs, N-1, p)\n",
    "\n",
    "min_x,max_x = degrees.min(),degrees.max()"
   ]
  },
  {
   "cell_type": "code",
   "execution_count": null,
   "id": "62dec4d8-c749-4952-81c8-be0905f61839",
   "metadata": {},
   "outputs": [],
   "source": [
    "pad = 2\n",
    "plt.figure()\n",
    "\n",
    "fig,ax = plt.subplots(1,2,figsize=(8,4))\n",
    "\n",
    "ax[0].hist(degrees, label = 'Data',density=True)\n",
    "ax[0].plot(xs,ys, label='Theory',alpha=0.6)\n",
    "ax[0].set_xlabel(r'$d_i$')\n",
    "ax[0].set_ylabel('Frequency')\n",
    "ax[0].set_xlim(min_x - pad, max_x + pad)\n",
    "\n",
    "ax[0].legend()\n",
    "\n",
    "ax[1].plot(degree_cdf_x, degree_cdf_y, label = 'Data')\n",
    "ax[1].plot(xs, ys_cdf, label='Theory',alpha=0.6)\n",
    "ax[1].set_xlabel(r'$d_i$')\n",
    "ax[1].set_ylabel('CDF')\n",
    "ax[1].set_xlim(min_x - pad, max_x + pad)\n",
    "\n",
    "ax[1].legend()\n",
    "\n",
    "plt.tight_layout()"
   ]
  },
  {
   "cell_type": "markdown",
   "id": "26a2faba-846b-4a3a-a793-379c158516a0",
   "metadata": {},
   "source": [
    "We do not really see much...\n",
    "\n",
    "This is because we have few nodes with very large degree, but many with small degree.  \n",
    "\n"
   ]
  },
  {
   "cell_type": "code",
   "execution_count": null,
   "id": "e3291e02-5540-4bc0-aaed-2a667c29e00b",
   "metadata": {},
   "outputs": [],
   "source": [
    "np.unique(degrees,return_counts = True)"
   ]
  },
  {
   "cell_type": "markdown",
   "id": "53cf0fd0-a4ae-4aa7-9e49-7152a9a224cf",
   "metadata": {
    "execution": {
     "iopub.execute_input": "2024-11-26T14:22:03.240016Z",
     "iopub.status.busy": "2024-11-26T14:22:03.239131Z",
     "iopub.status.idle": "2024-11-26T14:22:03.266784Z",
     "shell.execute_reply": "2024-11-26T14:22:03.266265Z",
     "shell.execute_reply.started": "2024-11-26T14:22:03.239975Z"
    }
   },
   "source": [
    "You can see this with the quantiles, most of the probability distribution is concentrated on very small degrees!"
   ]
  },
  {
   "cell_type": "code",
   "execution_count": null,
   "id": "442c22e3-875a-4139-9595-625076fc595c",
   "metadata": {},
   "outputs": [],
   "source": [
    "np.quantile(degrees,0.95)"
   ]
  },
  {
   "cell_type": "markdown",
   "id": "c8f6c9ce-c930-4231-8f13-682609823a5f",
   "metadata": {},
   "source": [
    "We can now better zoom in the plot "
   ]
  },
  {
   "cell_type": "code",
   "execution_count": null,
   "id": "9b77d2b1-52a5-4a94-bf7a-bcf1370a6828",
   "metadata": {},
   "outputs": [],
   "source": [
    "max_x = np.quantile(degrees,1)"
   ]
  },
  {
   "cell_type": "code",
   "execution_count": null,
   "id": "c6dbcebf-c78d-45db-b5d3-c058517e787d",
   "metadata": {},
   "outputs": [],
   "source": [
    "pad = 2\n",
    "plt.figure()\n",
    "\n",
    "fig,ax = plt.subplots(1,2,figsize=(8,4))\n",
    "\n",
    "# ax[0].hist(degrees, label = 'Data',density=True,bins=degrees.max())\n",
    "bar_x, bar_y = np.unique(degrees,return_counts = True)\n",
    "ax[0].bar(bar_x, bar_y/bar_y.sum(), label = 'Data')\n",
    "ax[0].plot(xs,ys, label='Theory',alpha=0.6,color = 'salmon')\n",
    "ax[0].set_xlabel(r'$d_i$')\n",
    "ax[0].set_ylabel('Frequency')\n",
    "ax[0].set_xlim(min_x - pad, max_x + pad)\n",
    "\n",
    "# ax[0].legend()\n",
    "\n",
    "ax[1].plot(degree_cdf_x, degree_cdf_y, label = 'Data')\n",
    "ax[1].plot(xs, ys_cdf, label='Theory',alpha=0.6)\n",
    "ax[1].set_xlabel(r'$d_i$')\n",
    "ax[1].set_ylabel('CDF')\n",
    "ax[1].set_xlim(min_x - pad, max_x + pad)\n",
    "\n",
    "ax[1].legend()\n",
    "\n",
    "plt.tight_layout()"
   ]
  },
  {
   "cell_type": "markdown",
   "id": "780f7cf3-8623-43e0-8fc1-5fcd85ea0f1a",
   "metadata": {
    "execution": {
     "iopub.execute_input": "2024-11-26T14:26:27.089319Z",
     "iopub.status.busy": "2024-11-26T14:26:27.088515Z",
     "iopub.status.idle": "2024-11-26T14:26:27.116489Z",
     "shell.execute_reply": "2024-11-26T14:26:27.115893Z",
     "shell.execute_reply.started": "2024-11-26T14:26:27.089263Z"
    }
   },
   "source": [
    "You can see how the binomial distribution is really not appropriate for this dataset..."
   ]
  },
  {
   "cell_type": "markdown",
   "id": "44c956c1-d651-4b0e-bc5e-c8ba744db213",
   "metadata": {
    "execution": {
     "iopub.execute_input": "2024-11-26T14:26:56.856161Z",
     "iopub.status.busy": "2024-11-26T14:26:56.855420Z",
     "iopub.status.idle": "2024-11-26T14:26:56.885683Z",
     "shell.execute_reply": "2024-11-26T14:26:56.885064Z",
     "shell.execute_reply.started": "2024-11-26T14:26:56.856106Z"
    }
   },
   "source": [
    "#### Q: How about other datasets? \n",
    "\n",
    "You can download more and try with others"
   ]
  },
  {
   "cell_type": "markdown",
   "id": "5e1fe605-1264-428c-9bdd-4974df5a06cd",
   "metadata": {},
   "source": [
    "## 3. Connectivity of an ER graph\n",
    "Let's focus now on assessing connectivity of an ER network.  \n",
    "The smaller the $p$, the more likely the network is disconnected.  \n"
   ]
  },
  {
   "cell_type": "markdown",
   "id": "4b701321-0141-4be6-98e8-54b70958d03f",
   "metadata": {
    "execution": {
     "iopub.execute_input": "2024-11-27T12:32:08.268894Z",
     "iopub.status.busy": "2024-11-27T12:32:08.268171Z",
     "iopub.status.idle": "2024-11-27T12:32:08.297478Z",
     "shell.execute_reply": "2024-11-27T12:32:08.296578Z",
     "shell.execute_reply.started": "2024-11-27T12:32:08.268844Z"
    }
   },
   "source": [
    "### 3.1 Measuring probability of {$G$ is connected}\n",
    "We learned:\n",
    "\n",
    "$\n",
    "Pr[G_{p}(N) \\text{ connected} ]= Pr[d_{min}\\geq 1] + o(1)\n",
    "$\n",
    "\n",
    "Let's see how does the function determining $Pr[d_{min} \\geq 1]$ look like:\n",
    "\n",
    "$Pr[d_{min} \\geq 1] \\approx (1 - (1-p)^{N-1} )^{N}$,  \n",
    "where the $\\approx$ comes from assuming independent degrees at each node."
   ]
  },
  {
   "cell_type": "code",
   "execution_count": null,
   "id": "2188d86e-c721-4df8-828b-18db0a454490",
   "metadata": {},
   "outputs": [],
   "source": [
    "def get_pdmin(p: float, N: int) -> float:\n",
    "    '''\n",
    "    Calculates the probability that the min degree is at least 1\n",
    "    '''\n",
    "    p = np.power(1 - np.power(1-p,N-1),N)\n",
    "    assert (p >= 0) & (p <= 1)\n",
    "    return p\n",
    "    "
   ]
  },
  {
   "cell_type": "markdown",
   "id": "3ef34bfd-85a1-4864-829f-d8160685b3b4",
   "metadata": {},
   "source": [
    "Play with varying $N$"
   ]
  },
  {
   "cell_type": "code",
   "execution_count": null,
   "id": "59561a46-4716-4f29-a680-9b20a2d49fec",
   "metadata": {},
   "outputs": [],
   "source": [
    "plt.figure()\n",
    "\n",
    "eps = 0.1\n",
    "xs = np.linspace(0,0.2,100)\n",
    "\n",
    "for i, N in enumerate([10,100,1000,10000]):\n",
    "   \n",
    "    pc = np.log(N)/N\n",
    "    \n",
    "    \n",
    "    ys = [get_pdmin(x,N) for x in xs]\n",
    "    \n",
    "    plt.axvline(pc, ls='--',lw=2,c='grey',alpha=0.8,zorder=0)\n",
    "    plt.text(pc,0.5 + i * eps,r'$p_c$' +f\"(N={N:.0f})\")\n",
    "    plt.plot(xs,ys, label=f'N ={N}')\n",
    "\n",
    "\n",
    "plt.legend()\n",
    "plt.xlabel('p',fontsize=fs)\n",
    "plt.ylabel(r'$Pr[d_{min} \\geq 1]$',fontsize=fs)\n",
    "      \n",
    "plt.show()"
   ]
  },
  {
   "cell_type": "markdown",
   "id": "adf086d5-48a7-46be-85d8-abe93ec81403",
   "metadata": {
    "execution": {
     "iopub.execute_input": "2024-11-28T14:36:55.256892Z",
     "iopub.status.busy": "2024-11-28T14:36:55.256589Z",
     "iopub.status.idle": "2024-11-28T14:36:55.282920Z",
     "shell.execute_reply": "2024-11-28T14:36:55.282083Z",
     "shell.execute_reply.started": "2024-11-28T14:36:55.256874Z"
    }
   },
   "source": [
    "We also learned about the critical threshold: \n",
    "\n",
    "- $p_c \\sim \\frac{\\log N}{N}$\n",
    "\n",
    "This is the approximate value where we expect to see a **connected** network. "
   ]
  },
  {
   "cell_type": "code",
   "execution_count": null,
   "id": "176321f2-c708-4731-9a28-784974b10f21",
   "metadata": {},
   "outputs": [],
   "source": [
    "def get_avg_d_from_pN(p: float, N: int) -> float:\n",
    "    '''\n",
    "    E[d] = 2L/N\n",
    "    E[L] = p L_max\n",
    "    --> E[d] = 2p L_max/N\n",
    "    '''\n",
    "    L_max = N * (N - 1) / 2\n",
    "    d_avg = 2 * p * L_max / N\n",
    "    return d_avg\n",
    "\n",
    "def get_p_from_avg_dN(d_avg: float, N: int) -> float:\n",
    "    '''\n",
    "    it is more intuitive to work with d_avg and then \n",
    "    figure out what the corresponding p is\n",
    "    E[d] = 2p L_max/N\n",
    "    --> p = E[d] N/ (2L_max)\n",
    "    '''\n",
    "    L_max = N * (N - 1) / 2\n",
    "    p = d_avg * N / (2 * L_max)\n",
    "    return p"
   ]
  },
  {
   "cell_type": "markdown",
   "id": "21515163-0df6-472b-b70d-b3ef5e62e2af",
   "metadata": {},
   "source": [
    "First, let's see some main stats"
   ]
  },
  {
   "cell_type": "code",
   "execution_count": null,
   "id": "ff3ae841-57a1-49b4-8d22-67cb0424d84c",
   "metadata": {},
   "outputs": [],
   "source": [
    "N = 100\n",
    "pc = np.log(N)/N\n",
    "d_avg_c = get_avg_d_from_pN(pc,N)\n",
    "print(f'N = {N:.0f}')\n",
    "print(f'p_c = {pc:.3f}\\nd_c = {d_avg_c:.2f} (critical degree)')"
   ]
  },
  {
   "cell_type": "markdown",
   "id": "57570265-d566-49a3-adc9-eedcdc0addce",
   "metadata": {
    "execution": {
     "iopub.execute_input": "2024-11-27T09:37:22.375592Z",
     "iopub.status.busy": "2024-11-27T09:37:22.374980Z",
     "iopub.status.idle": "2024-11-27T09:37:22.398269Z",
     "shell.execute_reply": "2024-11-27T09:37:22.397724Z",
     "shell.execute_reply.started": "2024-11-27T09:37:22.375551Z"
    }
   },
   "source": [
    "Now we can vary $p$ and track the number of connected components.   \n",
    "It can be more intuitive to vary $d_{avg}$, the average degree, instead of $p$.   \n",
    "They are proportional, but  $d_{avg}$ has a more intuitive range."
   ]
  },
  {
   "cell_type": "markdown",
   "id": "672cdcf9-bc91-41bd-91b7-dc083acc54ed",
   "metadata": {},
   "source": [
    "### 3.2 The probability of being in the LCC"
   ]
  },
  {
   "cell_type": "markdown",
   "id": "d77b7f91-c6bf-45ee-8bf3-6192d13dfe75",
   "metadata": {},
   "source": [
    "Before simulating some data, we should see what the **theory** says:\n",
    "\n",
    "$\n",
    "\\mu_{G_{p}(N)} = \\frac{\\log(1-S)}{S}\\quad.\n",
    "$\n",
    "\n",
    "\n",
    "$S= 1-e^{-\\mu S}$,\n",
    "where $\\mu = p(N-1)$ is the expected degree.  \n",
    "Note that from this, the expected size of the largest connected component (LCC) is $N S$."
   ]
  },
  {
   "cell_type": "code",
   "execution_count": null,
   "id": "295cd421-8b54-41ae-bb3e-d24d3ad7be06",
   "metadata": {},
   "outputs": [],
   "source": [
    "def get_mu_from_S(S: float, eps = 1e-8)-> float:\n",
    "    '''\n",
    "    For mu there is an easier expression to calculate than \n",
    "    the equation for S (which is trascendental and requires more thoughts)\n",
    "    '''\n",
    "    assert 0 <= S <= 1\n",
    "\n",
    "    return -np.log(1-S + eps) / (S + eps)"
   ]
  },
  {
   "cell_type": "markdown",
   "id": "34a760ff-8012-4cc0-9dcb-63a84b274e4e",
   "metadata": {},
   "source": [
    "#### Method 1: using root-finding methods"
   ]
  },
  {
   "cell_type": "code",
   "execution_count": null,
   "id": "3a343cf3-02d2-45c7-99cb-37b8c91fa214",
   "metadata": {},
   "outputs": [],
   "source": [
    "from scipy.optimize import root_scalar\n",
    "\n",
    "def def_root_S(x: float, mu: float)-> float:\n",
    "    f = x - 1 + np.exp(-mu * x)\n",
    "    return f\n",
    "    \n",
    "def get_S_from_mu_RF(mu: float, bracket = [0.00001,1.0],method='brentq')-> float:\n",
    "\n",
    "    try:\n",
    "        sol = root_scalar(def_root_S, bracket=bracket,args=(mu,),method=method)\n",
    "        return sol.root\n",
    "    except: \n",
    "        return 0.\n",
    "    \n",
    "d = 2.\n",
    "S = get_S_from_mu_RF(d)\n",
    "S"
   ]
  },
  {
   "cell_type": "markdown",
   "id": "1d1386d8-5e27-454e-bc95-93e45e19c22c",
   "metadata": {},
   "source": [
    "#### Method 2: using Lambert function"
   ]
  },
  {
   "cell_type": "code",
   "execution_count": null,
   "id": "5cfe873e-cb35-4c2d-9d24-1930b51a1c9d",
   "metadata": {},
   "outputs": [],
   "source": [
    "from scipy.special import lambertw\n",
    "\n",
    "def get_S_from_mu_LW(mu: float, eps= 1e-9)-> float:\n",
    "    '''\n",
    "    We can solve it either with a graphical comparison (seeing when two curves intersect)\n",
    "    or using:\n",
    "    S = 1 + (1/c)W(−ce^{−c}) \n",
    "    where W(.) is the [Lambert W-function](https://docs.scipy.org/doc/scipy/reference/generated/scipy.special.lambertw.html),\n",
    "    and is defined as the solution to the equation W(z)eW(z) = z\n",
    "    '''\n",
    "    W = lambertw(-mu * np.exp(-mu))\n",
    "    S = 1 + (1/mu) * W\n",
    "    return S\n",
    "\n",
    "d = 2.\n",
    "S = get_S_from_mu_LW(d)\n",
    "S"
   ]
  },
  {
   "cell_type": "code",
   "execution_count": null,
   "id": "149ab8bd-0ab4-4e49-8bd6-f373fc26344e",
   "metadata": {},
   "outputs": [],
   "source": [
    "fig, ax = plt.subplots(figsize=(6,4))\n",
    "\n",
    "max_d = 6.\n",
    "min_d = 0.1\n",
    "delta_d = int(max_d - min_d)\n",
    "range_d =  np.linspace(min_d,max_d,delta_d * 10 + 1)\n",
    "\n",
    "x = range_d\n",
    "exp_S = [N * get_S_from_mu_RF(d) for d in x]\n",
    "exp_S2 = [N * get_S_from_mu_LW(d) for d in x]\n",
    "\n",
    "ax.axhline(N, ls='--',lw=2,c='black',label=r'N',alpha=0.7,zorder=0)\n",
    "ax.axvline(vl, ls='--',lw=2,c='b',label=r'$d_c$',alpha=0.8,zorder=0)\n",
    "ax.scatter(x,exp_S,s=50,edgecolor='black',label='Theory (root-finding)', marker='o',alpha=0.9)\n",
    "ax.scatter(x,exp_S2,s=50,edgecolor='black',label='Theory (Lambert W)', marker='s',alpha=0.9)\n",
    "ax.plot(x,exp_S,marker='o',alpha=0.7,lw=2)\n",
    "ax.legend()\n",
    "ax.set_xlabel(r'$d_{avg}$',fontsize = fs)\n",
    "ax.set_ylabel(f\"Size LCC\",fontsize = fs)\n",
    "\n",
    "fig.text(0.45,1.0,f\"N = {N}\",fontsize = fs +4)\n",
    "plt.tight_layout()"
   ]
  },
  {
   "cell_type": "markdown",
   "id": "158c99be-a8ea-4f14-81f3-45178dcf31bb",
   "metadata": {},
   "source": [
    "### 3.3 How do networks in the interesting regimes look like?\n",
    "\n",
    "We can highlight few examples for average degree:\n",
    "1) $d < 1$ (all small tree-like component)\n",
    "2) $d \\sim 1$ (starting to see some larger components, but still small)\n",
    "3) $1< d< d_c$ (giant component is forming, but still some small components)"
   ]
  },
  {
   "cell_type": "code",
   "execution_count": null,
   "id": "c207143c-2b28-457c-85b8-f4991cb19a5e",
   "metadata": {},
   "outputs": [],
   "source": [
    "range_d = [0.5,1.,1.5,4.5,5.]\n",
    "seed = 10\n",
    "G, pos = [],[]\n",
    "title = []\n",
    "for d in range_d:\n",
    "\n",
    "    p = get_p_from_avg_dN(d,N)\n",
    "    G.append(nx.erdos_renyi_graph(N, p, seed=seed))\n",
    "    pos.append(nx.spring_layout(G[-1], iterations=10, seed=seed))\n",
    "    title.append(r\"$d_{avg}$\"+f\" = {d:.1f}\")"
   ]
  },
  {
   "cell_type": "code",
   "execution_count": null,
   "id": "ef0c968c-7be7-4441-acc2-d0f57e5cda3e",
   "metadata": {},
   "outputs": [],
   "source": [
    "filename = 'ER_network_examples'\n",
    "outfile = get_filename(filename,lecture_id=lecture_id)\n",
    "outfile"
   ]
  },
  {
   "cell_type": "code",
   "execution_count": null,
   "id": "99a3b9a7-9bab-49ab-a7de-ed98fc8de4e0",
   "metadata": {},
   "outputs": [],
   "source": [
    "L = len(G) # number of graph types\n",
    "width = 4\n",
    "height = width\n",
    "nrows = 1\n",
    "ncols = int(np.ceil(L / nrows))\n",
    "nc = 'white'\n",
    "ec = BLUE\n",
    "ew = 2\n",
    "\n",
    "fig,ax = plt.subplots(nrows,ncols, figsize=(width * ncols,  height * nrows))\n",
    "\n",
    "for i in np.arange(L):\n",
    "    nx.draw_networkx_nodes(G[i], pos[i], node_size=100, edgecolors='black', node_color=nc,ax=ax[i])\n",
    "    \n",
    "    edges = nx.draw_networkx_edges(G[i], pos[i], ax=ax[i], \n",
    "                                   edge_color=ec,\n",
    "                                    width=ew)\n",
    "    \n",
    "    ax[i].set_axis_off()\n",
    "    ax[i].set_title(title[i],fontsize=fs)\n",
    "\n",
    "plt.tight_layout()\n",
    "\n",
    "if outfile is not None:\n",
    "    \n",
    "    plt.savefig(f\"{outdir}{outfile}\", dpi=dpi, format=None, metadata=None,\n",
    "                bbox_inches='tight', pad_inches=0.1,\n",
    "                facecolor='auto', edgecolor='auto',\n",
    "                backend=None\n",
    "                )\n",
    "    print(f\"Figure saved in {outdir}{outfile}\")\n",
    "        \n",
    "plt.show()"
   ]
  },
  {
   "cell_type": "markdown",
   "id": "1265f035-afd1-4a1f-97ff-27a698b40466",
   "metadata": {},
   "source": [
    "Now we can compare with the **experiments**.  \n",
    "First, let's generate **synthetic ER** with varying average degree."
   ]
  },
  {
   "cell_type": "code",
   "execution_count": null,
   "id": "fd95ba73-f2fc-4eb3-8d8a-0a599deff2bd",
   "metadata": {},
   "outputs": [],
   "source": [
    "N = 10000\n",
    "# Get range of degrees\n",
    "max_d = 6\n",
    "min_d = 0.1\n",
    "delta_d = int(max_d - min_d)\n",
    "range_d =  np.linspace(min_d,max_d,delta_d * 5 + 1)\n",
    "\n",
    "# Generate data\n",
    "S = 1 # number of sampled graph per parameter set (p,N)\n",
    "D = len(range_d)\n",
    "ncc = np.zeros((D,S)).astype(int) # number of CC\n",
    "lcc = np.zeros((D,S)) # size of the largest CC\n",
    "seeds = np.zeros((D,S)).astype(int) # to be able to replicate the graph\n",
    "\n",
    "for i, d in enumerate(range_d):\n",
    "    p = get_p_from_avg_dN(d,N)\n",
    "    for s in range(S):\n",
    "        seed = prng.randint(1e5)\n",
    "        G = nx.erdos_renyi_graph(N, p, seed=seed)\n",
    "        seeds[i,s] = seed\n",
    "        cc = [len(c) for c in sorted(nx.connected_components(G), key=len, reverse=True)] # this stores the size of each component\n",
    "        ncc[i,s] = len(cc)\n",
    "        lcc[i,s] = cc[0]\n"
   ]
  },
  {
   "cell_type": "code",
   "execution_count": null,
   "id": "ffd1b71c-dd93-4a57-91cb-525f88f6458b",
   "metadata": {
    "scrolled": true
   },
   "outputs": [],
   "source": [
    "fig, ax = plt.subplots(1,2,figsize=(10,4))\n",
    "\n",
    "pc = np.log(N)/N # critical threshold for connectivity\n",
    "d_avg_c = get_avg_d_from_pN(pc,N) # degree at the critical threshold\n",
    "\n",
    "x = range_d\n",
    "vl = d_avg_c\n",
    "\n",
    "# NCC\n",
    "y = np.mean(ncc,axis=1)\n",
    "yerr = np.std(ncc,axis=1)\n",
    "ax[0].axhline(1, ls='--',lw=2,c='black',alpha=0.7,zorder=0)\n",
    "ax[0].axvline(vl, ls='--',lw=2,c='b',label=r'$d_c$',alpha=0.8,zorder=0)\n",
    "ax[0].scatter(x,y,s=ms,edgecolor='b',label='Data')\n",
    "ax[0].errorbar(x, y, yerr,lw=1, capsize=2.)\n",
    "ax[0].legend()\n",
    "ax[0].set_xlabel(r'$d_{avg}$',fontsize = fs)\n",
    "ax[0].set_ylabel(f\"NCC\",fontsize = fs)\n",
    "\n",
    "# LCC\n",
    "y = np.mean(lcc,axis=1)\n",
    "yerr = np.std(lcc,axis=1)\n",
    "exp_d = [get_mu_from_S(s/N) for s in y] # theory\n",
    "exp_S = [N * get_S_from_mu_RF(d) for d in x]\n",
    "\n",
    "ax[1].axhline(N, ls='--',lw=2,c='black',label=r'N',alpha=0.7,zorder=0)\n",
    "ax[1].axvline(vl, ls='--',lw=2,c='b',label=r'$d_c$',alpha=0.8,zorder=0)\n",
    "ax[1].axvline(1, ls='--',lw=2,c='grey',alpha=0.8,zorder=0)\n",
    "ax[1].scatter(x,y,s=ms,edgecolor='b',label='Data')\n",
    "ax[1].scatter(exp_d,y,s=50,edgecolor='black',label='Theory (d)', marker='s',c='red',alpha=0.8)\n",
    "ax[1].scatter(x,exp_S,s=50,edgecolor='black',label='Theory (S)', marker='d',c='magenta',alpha=0.8)\n",
    "ax[1].errorbar(x, y, yerr,lw=1, capsize=2.)\n",
    "ax[1].legend()\n",
    "ax[1].set_xlabel(r'$d_{avg}$',fontsize = fs)\n",
    "ax[1].set_ylabel(f\"Size LCC\",fontsize = fs)\n",
    "\n",
    "fig.text(0.45,1.0,f\"N = {N}\",fontsize = fs +4)\n",
    "plt.tight_layout()"
   ]
  },
  {
   "cell_type": "markdown",
   "id": "ab0d5b55-9693-47f1-9dbe-273dcbdf30ee",
   "metadata": {},
   "source": [
    "Q: what happens if you increase $N$ to large values?"
   ]
  },
  {
   "cell_type": "markdown",
   "id": "68c15a03-aaa0-41c2-85af-5864e9723549",
   "metadata": {
    "execution": {
     "iopub.execute_input": "2024-11-28T15:09:57.151483Z",
     "iopub.status.busy": "2024-11-28T15:09:57.150160Z",
     "iopub.status.idle": "2024-11-28T15:09:57.189019Z",
     "shell.execute_reply": "2024-11-28T15:09:57.188426Z",
     "shell.execute_reply.started": "2024-11-28T15:09:57.151408Z"
    }
   },
   "source": [
    "Try!"
   ]
  },
  {
   "cell_type": "markdown",
   "id": "e48e4ba1-96ae-4493-a231-87725ae57443",
   "metadata": {},
   "source": [
    "### 4.1 Diameter of an ER graph\n",
    "\n",
    "We can investigate the diameter, using the approximate value of:\n",
    "\n",
    "$ \\ell = O(\\log N)$"
   ]
  },
  {
   "cell_type": "code",
   "execution_count": null,
   "id": "f04c9720-c47b-4407-b97e-0d15f2d442a1",
   "metadata": {},
   "outputs": [],
   "source": [
    "range_N =  [10,100,1000]\n",
    "\n",
    "d = 10 # average degree\n",
    "S = 10 # number of sampled graph per parameter set (p,N)\n",
    "\n",
    "D = len(range_N)\n",
    "diameter = np.zeros((D,S)) # size of the largest CC\n",
    "seeds = np.zeros((D,S)).astype(int) # to be able to replicate the graph\n",
    "\n",
    "for i, N in enumerate(range_N):\n",
    "    p = get_p_from_avg_dN(d,N)\n",
    "    for s in range(S):\n",
    "        seed = prng.randint(1e5)\n",
    "        G = nx.fast_gnp_random_graph(N, p, seed=seed)\n",
    "\n",
    "        try: # it can break down, try removing this\n",
    "            diameter[i,s] = nx.diameter(G)\n",
    "        except:\n",
    "            lcc = max(nx.connected_components(G), key=len)\n",
    "            print(f\"G is disconnected!\\nBut |LCC| = {len(lcc)/N:.3f}%, over N={N}\")\n",
    "            diameter[i,s] = nx.diameter(G.subgraph(lcc))\n"
   ]
  },
  {
   "cell_type": "code",
   "execution_count": null,
   "id": "d66082f4-f785-4aff-9eec-7e39e4727beb",
   "metadata": {},
   "outputs": [],
   "source": [
    "diameter.shape"
   ]
  },
  {
   "cell_type": "code",
   "execution_count": null,
   "id": "3aeb8bb0-d76b-4374-91e7-b7d1830a4e17",
   "metadata": {},
   "outputs": [],
   "source": [
    "fig, ax = plt.subplots(figsize=(6,4))\n",
    "\n",
    "x = range_N\n",
    "exp_diam = [np.log(N) for N in range_N]\n",
    "\n",
    "y = np.mean(diameter,axis=1)\n",
    "yerr = np.std(diameter,axis=1)\n",
    "# ax.axhline(N, ls='--',lw=2,c='black',label=r'N',alpha=0.7,zorder=0)\n",
    "# ax.axvline(vl, ls='--',lw=2,c='b',label=r'$d_c$',alpha=0.8,zorder=0)\n",
    "ax.scatter(x,y,s=50,edgecolor='black',label='Data', marker='o',alpha=0.9)\n",
    "ax.errorbar(x,y,yerr = yerr,marker='o',alpha=0.9)\n",
    "ax.scatter(x,exp_diam,s=50,edgecolor='black',label='Theory', marker='s',alpha=0.9)\n",
    "ax.plot(x,exp_diam,marker='o',alpha=0.7,lw=2)\n",
    "ax.legend()\n",
    "ax.set_xlabel(r'$N$',fontsize = fs)\n",
    "ax.set_ylabel(f\"diam(G)\",fontsize = fs)\n",
    "\n",
    "fig.text(0.45,1.0,f\"d = {d}\",fontsize = fs +4)\n",
    "plt.tight_layout()"
   ]
  },
  {
   "cell_type": "markdown",
   "id": "fcd239b9-379c-45c7-9208-0990dd57993b",
   "metadata": {
    "execution": {
     "iopub.execute_input": "2024-11-28T15:37:21.606150Z",
     "iopub.status.busy": "2024-11-28T15:37:21.605701Z",
     "iopub.status.idle": "2024-11-28T15:37:21.637229Z",
     "shell.execute_reply": "2024-11-28T15:37:21.636636Z",
     "shell.execute_reply.started": "2024-11-28T15:37:21.606125Z"
    }
   },
   "source": [
    "We can see something but would need to go to higher $N$ to get a better sense. It takes time though to generate larger ER graphs..."
   ]
  },
  {
   "cell_type": "markdown",
   "id": "f92e5646-6dc6-48df-ad36-a55a7937a0c7",
   "metadata": {},
   "source": [
    "### 4.2 Reciprocity"
   ]
  },
  {
   "cell_type": "code",
   "execution_count": null,
   "id": "875b35cd-21e2-4a65-99bd-1dd6b4ef5223",
   "metadata": {},
   "outputs": [],
   "source": []
  },
  {
   "cell_type": "code",
   "execution_count": null,
   "id": "76525398-2e27-4e78-a840-4236e24b999e",
   "metadata": {},
   "outputs": [],
   "source": [
    "range_N =  [10,100,1000,10000]\n",
    "\n",
    "d = 10 # average degree\n",
    "S = 10 # number of sampled graph per parameter set (p,N)\n",
    "\n",
    "D = len(range_N)\n",
    "reciprocity = np.zeros((D,S)) # size of the largest CC\n",
    "seeds = np.zeros((D,S)).astype(int) # to be able to replicate the graph\n",
    "\n",
    "for i, N in enumerate(range_N):\n",
    "    p = get_p_from_avg_dN(d,N)\n",
    "    for s in range(S):\n",
    "        seed = prng.randint(1e5)\n",
    "        G = nx.fast_gnp_random_graph(N, p, seed=seed, directed=True) # notice the directed == True!\n",
    "\n",
    "        reciprocity[i,s] = nx.overall_reciprocity(G)\n",
    "\n"
   ]
  },
  {
   "cell_type": "code",
   "execution_count": null,
   "id": "4e5328bd-cad5-42d0-950e-94882883b6b5",
   "metadata": {},
   "outputs": [],
   "source": [
    "fig, ax = plt.subplots(figsize=(6,4))\n",
    "\n",
    "x = range_N\n",
    "exp_r = [get_p_from_avg_dN(d,N) for N in range_N]\n",
    "\n",
    "y = np.mean(reciprocity,axis=1)\n",
    "yerr = np.std(reciprocity,axis=1)\n",
    "\n",
    "ax.scatter(x,y,s=50,edgecolor='black',label='Data', marker='o',alpha=0.9)\n",
    "ax.errorbar(x,y,yerr = yerr,marker='o',alpha=0.9,lw=2)\n",
    "ax.scatter(x,exp_r,s=50,edgecolor='black',label='Theory', marker='s',alpha=0.9)\n",
    "ax.plot(x,exp_r,marker='o',alpha=0.7,lw=2)\n",
    "ax.legend()\n",
    "ax.set_xlabel(r'$N$',fontsize = fs)\n",
    "ax.set_ylabel(f\"reciprocity(G)\",fontsize = fs)\n",
    "ax.set_xscale('log')\n",
    "\n",
    "fig.text(0.45,1.0,f\"d = {d}\",fontsize = fs +4)\n",
    "plt.tight_layout()"
   ]
  },
  {
   "cell_type": "markdown",
   "id": "9443434d-3859-493b-b080-d1a4e26fd698",
   "metadata": {},
   "source": [
    "### 4.3 Clustering coefficent"
   ]
  },
  {
   "cell_type": "code",
   "execution_count": null,
   "id": "f898ace9-96f8-4382-ac56-6dba2ebb723a",
   "metadata": {},
   "outputs": [],
   "source": [
    "range_N =  [10,100,1000,10000]\n",
    "\n",
    "d = 10 # average degree\n",
    "S = 10 # number of sampled graph per parameter set (p,N)\n",
    "\n",
    "D = len(range_N)\n",
    "C = np.zeros((D,S)) # size of the largest CC\n",
    "seeds = np.zeros((D,S)).astype(int) # to be able to replicate the graph\n",
    "\n",
    "for i, N in enumerate(range_N):\n",
    "    p = get_p_from_avg_dN(d,N)\n",
    "    for s in range(S):\n",
    "        seed = prng.randint(1e5)\n",
    "        G = nx.fast_gnp_random_graph(N, p, seed=seed)\n",
    "\n",
    "        C[i,s] = np.array(list(nx.clustering(G).values())).mean()\n"
   ]
  },
  {
   "cell_type": "code",
   "execution_count": null,
   "id": "df86cb58-c3ef-4e5f-87d0-303426237035",
   "metadata": {},
   "outputs": [],
   "source": [
    "fig, ax = plt.subplots(figsize=(6,4))\n",
    "\n",
    "x = range_N\n",
    "exp_C = [get_p_from_avg_dN(d,N) for N in range_N]\n",
    "\n",
    "y = np.mean(C,axis=1)\n",
    "yerr = np.std(C,axis=1)\n",
    "\n",
    "ax.scatter(x,y,s=50,edgecolor='black',label='Data', marker='o',alpha=0.9)\n",
    "ax.errorbar(x,y,yerr = yerr,marker='o',alpha=0.9,lw=2)\n",
    "ax.scatter(x,exp_C,s=50,edgecolor='black',label='Theory', marker='s',alpha=0.9)\n",
    "ax.plot(x,exp_C,marker='o',alpha=0.7,lw=2)\n",
    "ax.legend()\n",
    "ax.set_xlabel(r'$N$',fontsize = fs)\n",
    "ax.set_ylabel(f\"C(G)\",fontsize = fs)\n",
    "ax.set_xscale('log')\n",
    "\n",
    "fig.text(0.45,1.0,f\"d = {d}\",fontsize = fs +4)\n",
    "plt.tight_layout()"
   ]
  }
 ],
 "metadata": {
  "kernelspec": {
   "display_name": "Python 3 (ipykernel)",
   "language": "python",
   "name": "python3"
  },
  "language_info": {
   "codemirror_mode": {
    "name": "ipython",
    "version": 3
   },
   "file_extension": ".py",
   "mimetype": "text/x-python",
   "name": "python",
   "nbconvert_exporter": "python",
   "pygments_lexer": "ipython3",
   "version": "3.12.7"
  }
 },
 "nbformat": 4,
 "nbformat_minor": 5
}
